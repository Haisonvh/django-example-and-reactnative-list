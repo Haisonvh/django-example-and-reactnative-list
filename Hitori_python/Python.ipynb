{
 "cells": [
  {
   "cell_type": "code",
   "execution_count": 28,
   "metadata": {},
   "outputs": [
    {
     "name": "stdout",
     "output_type": "stream",
     "text": [
      "Hello World!\n"
     ]
    }
   ],
   "source": [
    "import math\n",
    "\n",
    "fvar = 0.0\n",
    "svar = \"Hello World!\"\n",
    "print(svar)\n",
    "\n",
    "def helloInput():\n",
    "    name = input('Enter your name...')\n",
    "    print(f'Hello my name is {name}')\n",
    "\n",
    "def get3Char():\n",
    "    newline = input('Enter new line ')\n",
    "    print(newline[0:3])\n",
    "\n",
    "def mathCalc():\n",
    "    fvar = pow(1+5,7)+6\n",
    "    print(fvar)\n",
    "\n",
    "def getLength():\n",
    "    length = len(svar)\n",
    "    print(length)\n",
    "    \n",
    "#function for quick sort\n",
    "def swap(data, index1, index2):\n",
    "    temp = data[index1]\n",
    "    data[index1] = data[index2]\n",
    "    data[index2] = temp\n",
    "\n",
    "def patitioning(data, low, high):\n",
    "    pivot = data[high]\n",
    "    mid_index = low - 1\n",
    "    #every element is greater than pivot will move to the left hand side of the mid_index by increasing mid_index by 1 then swap with that elemnt\n",
    "    for higher_index in range(low,high):\n",
    "        if(data[higher_index]>pivot):\n",
    "            mid_index+=1\n",
    "            swap(data,mid_index,higher_index)\n",
    "    mid_index+=1\n",
    "    swap(data,mid_index,high)\n",
    "    return mid_index\n",
    "\n",
    "def quickSort(data, low, high):\n",
    "    if low < high:\n",
    "        mid = patitioning(data, low, high)\n",
    "        quickSort(data, low, mid-1)\n",
    "        quickSort(data, mid+1, high)\n",
    "    return data\n",
    "\n",
    "def getLessNumBaseQuickSort(data):\n",
    "    pivor = int(input('Please enter a number:'))\n",
    "    quickSort(data,0,len(data)-1)\n",
    "    for index in range(0,len(data)):\n",
    "        if(data[index]<pivor):\n",
    "            print(data[index:])\n",
    "            break\n",
    "        "
   ]
  },
  {
   "cell_type": "code",
   "execution_count": 10,
   "metadata": {},
   "outputs": [
    {
     "name": "stdout",
     "output_type": "stream",
     "text": [
      "Enter your name...Son\n",
      "Hello my name is Son\n"
     ]
    }
   ],
   "source": [
    "helloInput()"
   ]
  },
  {
   "cell_type": "code",
   "execution_count": 13,
   "metadata": {},
   "outputs": [
    {
     "name": "stdout",
     "output_type": "stream",
     "text": [
      "Enter new line Hoang Hai Son\n",
      "Hoa\n"
     ]
    }
   ],
   "source": [
    "get3Char()"
   ]
  },
  {
   "cell_type": "code",
   "execution_count": 17,
   "metadata": {},
   "outputs": [
    {
     "name": "stdout",
     "output_type": "stream",
     "text": [
      "279942\n"
     ]
    }
   ],
   "source": [
    "mathCalc()"
   ]
  },
  {
   "cell_type": "code",
   "execution_count": 19,
   "metadata": {},
   "outputs": [
    {
     "name": "stdout",
     "output_type": "stream",
     "text": [
      "12\n"
     ]
    }
   ],
   "source": [
    "getLength()"
   ]
  },
  {
   "cell_type": "code",
   "execution_count": 25,
   "metadata": {},
   "outputs": [
    {
     "name": "stdout",
     "output_type": "stream",
     "text": [
      "[98, 55, 35, 33, 26, 23, 22, 12, 8, 8, 5, 5, 4, 3, 2, 1]\n",
      "[98, 55, 35, 33, 26, 23, 22, 12, 8, 8, 5, 5, 4, 3, 2, 1]\n"
     ]
    }
   ],
   "source": [
    "data = [1,5,2,8,3,12,8,5,23,98,55,4,26,22,33,35]\n",
    "sortData = quickSort(data,0,len(data)-1)\n",
    "print(sortData)\n",
    "print(data)"
   ]
  },
  {
   "cell_type": "code",
   "execution_count": 29,
   "metadata": {},
   "outputs": [
    {
     "name": "stdout",
     "output_type": "stream",
     "text": [
      "Please enter a number:11\n",
      "[8, 8, 5, 5, 4, 3, 2, 1]\n"
     ]
    }
   ],
   "source": [
    "data = [1,5,2,8,3,12,8,5,23,98,55,4,26,22,33,35]\n",
    "getLessNumBaseQuickSort(data)"
   ]
  },
  {
   "cell_type": "code",
   "execution_count": null,
   "metadata": {},
   "outputs": [],
   "source": []
  }
 ],
 "metadata": {
  "kernelspec": {
   "display_name": "Python 3",
   "language": "python",
   "name": "python3"
  },
  "language_info": {
   "codemirror_mode": {
    "name": "ipython",
    "version": 3
   },
   "file_extension": ".py",
   "mimetype": "text/x-python",
   "name": "python",
   "nbconvert_exporter": "python",
   "pygments_lexer": "ipython3",
   "version": "3.6.5"
  }
 },
 "nbformat": 4,
 "nbformat_minor": 2
}
